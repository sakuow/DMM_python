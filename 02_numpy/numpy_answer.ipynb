{
  "nbformat": 4,
  "nbformat_minor": 0,
  "metadata": {
    "kernelspec": {
      "display_name": "Python 3",
      "language": "python",
      "name": "python3"
    },
    "language_info": {
      "codemirror_mode": {
        "name": "ipython",
        "version": 3
      },
      "file_extension": ".py",
      "mimetype": "text/x-python",
      "name": "python",
      "nbconvert_exporter": "python",
      "pygments_lexer": "ipython3",
      "version": "3.7.6"
    },
    "colab": {
      "name": "numpy_answer.ipynb",
      "provenance": []
    }
  },
  "cells": [
    {
      "cell_type": "markdown",
      "metadata": {
        "id": "O_0Fnq6jdtbE"
      },
      "source": [
        "# numpy exercises\n",
        "\n",
        "\n",
        "1. データの状態を確認する方法について学習します。（4問）\n",
        "2. 配列について学習します。（4問）\n",
        "3. スライスについて学習します。（5問）\n",
        "4. 行列について学習します。（基礎）（6問）\n",
        "5. 行列について学習します。（応用）（7問）\n",
        "6. numpyでよく使う機能について学習します。（14問）"
      ]
    },
    {
      "cell_type": "markdown",
      "metadata": {
        "id": "JDe346BodtbJ"
      },
      "source": [
        "### 0. 事前準備"
      ]
    },
    {
      "cell_type": "markdown",
      "metadata": {
        "id": "FBJzAejSdtbK"
      },
      "source": [
        "#### 0.1 「numpyを読み込んでください。」"
      ]
    },
    {
      "cell_type": "code",
      "metadata": {
        "id": "GMR4C0ewdtbL"
      },
      "source": [
        "import numpy as np"
      ],
      "execution_count": 1,
      "outputs": []
    },
    {
      "cell_type": "markdown",
      "metadata": {
        "id": "ECDfzrjIdtbN"
      },
      "source": [
        "#### 0.2 「以下のコードを読み込んでください。」"
      ]
    },
    {
      "cell_type": "code",
      "metadata": {
        "colab": {
          "base_uri": "https://localhost:8080/"
        },
        "id": "gJkDY_FrdtbN",
        "outputId": "82b6db7d-c6af-49c1-da04-d6cc821fc657"
      },
      "source": [
        "a = np.arange(15).reshape(3, 5)\n",
        "a"
      ],
      "execution_count": 2,
      "outputs": [
        {
          "output_type": "execute_result",
          "data": {
            "text/plain": [
              "array([[ 0,  1,  2,  3,  4],\n",
              "       [ 5,  6,  7,  8,  9],\n",
              "       [10, 11, 12, 13, 14]])"
            ]
          },
          "metadata": {},
          "execution_count": 2
        }
      ]
    },
    {
      "cell_type": "markdown",
      "metadata": {
        "id": "OJibm4FxdtbO"
      },
      "source": [
        "### 1. データの状態を確認する方法について学習します。（4問）"
      ]
    },
    {
      "cell_type": "markdown",
      "metadata": {
        "id": "fclqlQQFdtbP"
      },
      "source": [
        "#### 1.1 「行列の大きさを確認してください。」"
      ]
    },
    {
      "cell_type": "code",
      "metadata": {
        "colab": {
          "base_uri": "https://localhost:8080/"
        },
        "id": "cHdiPScQdtbP",
        "outputId": "d31f28b1-8090-422e-a0e2-c9ac2c3c618f"
      },
      "source": [
        "a.shape"
      ],
      "execution_count": 3,
      "outputs": [
        {
          "output_type": "execute_result",
          "data": {
            "text/plain": [
              "(3, 5)"
            ]
          },
          "metadata": {},
          "execution_count": 3
        }
      ]
    },
    {
      "cell_type": "markdown",
      "metadata": {
        "id": "_K8sd4oIdtbQ"
      },
      "source": [
        "#### 1.2 「行列の軸数（次元）を確認してください。」"
      ]
    },
    {
      "cell_type": "code",
      "metadata": {
        "colab": {
          "base_uri": "https://localhost:8080/"
        },
        "id": "SrZwccpzdtbQ",
        "outputId": "8f6bb6e4-db07-4615-e970-f256f1010b7e"
      },
      "source": [
        "a.ndim"
      ],
      "execution_count": 4,
      "outputs": [
        {
          "output_type": "execute_result",
          "data": {
            "text/plain": [
              "2"
            ]
          },
          "metadata": {},
          "execution_count": 4
        }
      ]
    },
    {
      "cell_type": "markdown",
      "metadata": {
        "id": "NIFzdN-WdtbR"
      },
      "source": [
        "#### 1.3 「行列のデータ型を確認してください。」"
      ]
    },
    {
      "cell_type": "code",
      "metadata": {
        "colab": {
          "base_uri": "https://localhost:8080/"
        },
        "id": "3x0eYRUWdtbR",
        "outputId": "c3337b56-4b17-4721-b02e-6816eeaef665"
      },
      "source": [
        "type(a)"
      ],
      "execution_count": 5,
      "outputs": [
        {
          "output_type": "execute_result",
          "data": {
            "text/plain": [
              "numpy.ndarray"
            ]
          },
          "metadata": {},
          "execution_count": 5
        }
      ]
    },
    {
      "cell_type": "markdown",
      "metadata": {
        "id": "eQZF2_6ydtbS"
      },
      "source": [
        "#### 1.4 「行列の配列要素を確認してください。」"
      ]
    },
    {
      "cell_type": "code",
      "metadata": {
        "colab": {
          "base_uri": "https://localhost:8080/"
        },
        "id": "PFGGBdeOdtbT",
        "outputId": "d704a09f-96ab-45dd-d2a0-e5d4b06a9296"
      },
      "source": [
        "a.dtype"
      ],
      "execution_count": 6,
      "outputs": [
        {
          "output_type": "execute_result",
          "data": {
            "text/plain": [
              "dtype('int64')"
            ]
          },
          "metadata": {},
          "execution_count": 6
        }
      ]
    },
    {
      "cell_type": "markdown",
      "metadata": {
        "id": "qXCBpyBqdtbT"
      },
      "source": [
        "### 2. 配列について学習します。（4問）"
      ]
    },
    {
      "cell_type": "markdown",
      "metadata": {
        "id": "DLA1Je23dtbT"
      },
      "source": [
        "#### 2.1 「8つの「0」が入る配列を作成してください。」"
      ]
    },
    {
      "cell_type": "code",
      "metadata": {
        "scrolled": true,
        "id": "xcj86_ZwdtbT",
        "outputId": "944bc6c1-af58-4788-829c-2e0e13cf1e5e"
      },
      "source": [
        "data = np.zeros(8)\n",
        "print(data)"
      ],
      "execution_count": null,
      "outputs": [
        {
          "name": "stdout",
          "output_type": "stream",
          "text": [
            "[0. 0. 0. 0. 0. 0. 0. 0.]\n"
          ]
        }
      ]
    },
    {
      "cell_type": "markdown",
      "metadata": {
        "id": "1dSwJTEDdtbU"
      },
      "source": [
        "#### 2.2 「8つの「0」が入る配列を作成し、5番目の値を「1」に変えてください。」"
      ]
    },
    {
      "cell_type": "code",
      "metadata": {
        "id": "OdGj-BdFdtbU",
        "outputId": "ce552acc-260d-4ddf-af57-836855c41d23"
      },
      "source": [
        "data = np.zeros(8)\n",
        "data[4] = 1\n",
        "print(data)"
      ],
      "execution_count": null,
      "outputs": [
        {
          "name": "stdout",
          "output_type": "stream",
          "text": [
            "[0. 0. 0. 0. 1. 0. 0. 0.]\n"
          ]
        }
      ]
    },
    {
      "cell_type": "markdown",
      "metadata": {
        "id": "QO7QqmHHdtbU"
      },
      "source": [
        "#### 2.3 「10～49までの数字が昇順で入った配列を作成してください。」"
      ]
    },
    {
      "cell_type": "code",
      "metadata": {
        "id": "Nk6w91cYdtbV",
        "outputId": "1d48fbdf-9087-470b-abbd-bb741989279c"
      },
      "source": [
        "data = np.arange(10,50)\n",
        "print(data)"
      ],
      "execution_count": null,
      "outputs": [
        {
          "name": "stdout",
          "output_type": "stream",
          "text": [
            "[10 11 12 13 14 15 16 17 18 19 20 21 22 23 24 25 26 27 28 29 30 31 32 33\n",
            " 34 35 36 37 38 39 40 41 42 43 44 45 46 47 48 49]\n"
          ]
        }
      ]
    },
    {
      "cell_type": "markdown",
      "metadata": {
        "id": "P3K7f3AEdtbV"
      },
      "source": [
        "#### 2.4 「0～39までの数字が降順で入った配列を作成してください。」"
      ]
    },
    {
      "cell_type": "code",
      "metadata": {
        "id": "pnZgv_xSdtbV",
        "outputId": "81099cee-2716-4ca9-cf46-4ff9877ff5ec"
      },
      "source": [
        "data = np.arange(40)\n",
        "data = data[::-1]\n",
        "print(data)"
      ],
      "execution_count": null,
      "outputs": [
        {
          "name": "stdout",
          "output_type": "stream",
          "text": [
            "[39 38 37 36 35 34 33 32 31 30 29 28 27 26 25 24 23 22 21 20 19 18 17 16\n",
            " 15 14 13 12 11 10  9  8  7  6  5  4  3  2  1  0]\n"
          ]
        }
      ]
    },
    {
      "cell_type": "markdown",
      "metadata": {
        "id": "bGmXBeaGdtbV"
      },
      "source": [
        "### 3. スライスについて学習します。（5問）"
      ]
    },
    {
      "cell_type": "markdown",
      "metadata": {
        "id": "ZUCbm3uLdtbW"
      },
      "source": [
        "#### 3.1 「0~9までの数字が入った配列を作成してください。」"
      ]
    },
    {
      "cell_type": "code",
      "metadata": {
        "id": "SBM_7pg1dtbW",
        "outputId": "25568e42-77f3-4db3-fc42-46cc5cb01d5b"
      },
      "source": [
        "l = np.arange(10)\n",
        "print(l)"
      ],
      "execution_count": null,
      "outputs": [
        {
          "name": "stdout",
          "output_type": "stream",
          "text": [
            "[0 1 2 3 4 5 6 7 8 9]\n"
          ]
        }
      ]
    },
    {
      "cell_type": "markdown",
      "metadata": {
        "id": "KwcGI3ntdtbW"
      },
      "source": [
        "#### 3.2 「スライス（:）を使用して、3.1で作成した配列から下記の配列を取り出して下さい。」"
      ]
    },
    {
      "cell_type": "code",
      "metadata": {
        "id": "AxxxU6aVdtbW",
        "outputId": "a8c48310-80be-4dd3-f3f2-3212e1831168"
      },
      "source": [
        "print(l[4:8])"
      ],
      "execution_count": null,
      "outputs": [
        {
          "name": "stdout",
          "output_type": "stream",
          "text": [
            "[4 5 6 7]\n"
          ]
        }
      ]
    },
    {
      "cell_type": "markdown",
      "metadata": {
        "id": "-pKC6WcVdtbW"
      },
      "source": [
        "#### 3.3 「スライス（:）を使用して、3.1で作成した配列から「マイナス」を使用して下記の配列を取り出して下さい。」"
      ]
    },
    {
      "cell_type": "code",
      "metadata": {
        "id": "0LAqZ94rdtbX",
        "outputId": "02c30728-2bcb-4b70-ace6-bc47e70a0055"
      },
      "source": [
        "print(l[-7:-2])"
      ],
      "execution_count": null,
      "outputs": [
        {
          "name": "stdout",
          "output_type": "stream",
          "text": [
            "[3 4 5 6 7]\n"
          ]
        }
      ]
    },
    {
      "cell_type": "markdown",
      "metadata": {
        "id": "6_0Yw4c-dtbX"
      },
      "source": [
        "#### 3.4 「スライス（:）を使用して、3.1で作成した配列から「マイナス」を使用して下記の配列を取り出して下さい。」"
      ]
    },
    {
      "cell_type": "code",
      "metadata": {
        "id": "70ozA_sedtbX",
        "outputId": "a4224915-4892-46d2-e46c-b307e56e10e5"
      },
      "source": [
        "print(l[::-1])"
      ],
      "execution_count": null,
      "outputs": [
        {
          "name": "stdout",
          "output_type": "stream",
          "text": [
            "[9 8 7 6 5 4 3 2 1 0]\n"
          ]
        }
      ]
    },
    {
      "cell_type": "markdown",
      "metadata": {
        "id": "k08OpmUWdtbX"
      },
      "source": [
        "#### 3.5 「スライス（:）を使用して、3.1で作成した配列から下記の配列を取り出して下さい。」"
      ]
    },
    {
      "cell_type": "code",
      "metadata": {
        "id": "968mooCpdtbX",
        "outputId": "763dd446-2d8f-4fc2-f26f-b618df13a901"
      },
      "source": [
        "print(l[2:8:2])"
      ],
      "execution_count": null,
      "outputs": [
        {
          "name": "stdout",
          "output_type": "stream",
          "text": [
            "[2 4 6]\n"
          ]
        }
      ]
    },
    {
      "cell_type": "markdown",
      "metadata": {
        "id": "ETF3iX4ydtbX"
      },
      "source": [
        "### 4. 行列について学習します（基礎）（6問）"
      ]
    },
    {
      "cell_type": "markdown",
      "metadata": {
        "id": "bbBILmUzdtbY"
      },
      "source": [
        "#### 4.1 「0～8までの数字が昇順で入った配列を作成し、3×3の行列を作成してください。」"
      ]
    },
    {
      "cell_type": "code",
      "metadata": {
        "id": "3Lz-6ToQdtbY",
        "outputId": "5dfba173-b460-4fab-d1c7-7ae08022bb59"
      },
      "source": [
        "data = np.arange(9).reshape(3,3)\n",
        "print(data)"
      ],
      "execution_count": null,
      "outputs": [
        {
          "name": "stdout",
          "output_type": "stream",
          "text": [
            "[[0 1 2]\n",
            " [3 4 5]\n",
            " [6 7 8]]\n"
          ]
        }
      ]
    },
    {
      "cell_type": "markdown",
      "metadata": {
        "id": "Wf6CtNaWdtbY"
      },
      "source": [
        "#### 4.2 「任意の「0」が入っている配列を作成し、「0」以外が入っているインデックスを取得してください。」"
      ]
    },
    {
      "cell_type": "code",
      "metadata": {
        "id": "eaI5t-ChdtbY",
        "outputId": "a5be663f-566e-43a4-a0f1-68ec7d903003"
      },
      "source": [
        "data = np.nonzero([1,2,0,0,4,0])\n",
        "print(data)"
      ],
      "execution_count": null,
      "outputs": [
        {
          "name": "stdout",
          "output_type": "stream",
          "text": [
            "(array([0, 1, 4]),)\n"
          ]
        }
      ]
    },
    {
      "cell_type": "markdown",
      "metadata": {
        "id": "5RTOlbikdtbZ"
      },
      "source": [
        "#### 4.3 「3×3の正方行列を作成してください。」"
      ]
    },
    {
      "cell_type": "code",
      "metadata": {
        "id": "7dx5snvZdtbZ",
        "outputId": "1126a29a-7f35-43b1-858a-31b4a74eaabd"
      },
      "source": [
        "data = np.eye(3)\n",
        "print(data)"
      ],
      "execution_count": null,
      "outputs": [
        {
          "name": "stdout",
          "output_type": "stream",
          "text": [
            "[[1. 0. 0.]\n",
            " [0. 1. 0.]\n",
            " [0. 0. 1.]]\n"
          ]
        }
      ]
    },
    {
      "cell_type": "markdown",
      "metadata": {
        "id": "2eqxYO47dtba"
      },
      "source": [
        "#### 4.4 「3×3×3のランダム値を持つ行列を作成してください。」"
      ]
    },
    {
      "cell_type": "code",
      "metadata": {
        "id": "66ek53FKdtbb",
        "outputId": "f74a8e36-ec49-4e2c-993a-4295db9d80ca"
      },
      "source": [
        "data = np.random.random((3,3,3))\n",
        "print(data)"
      ],
      "execution_count": null,
      "outputs": [
        {
          "name": "stdout",
          "output_type": "stream",
          "text": [
            "[[[0.44999146 0.58589238 0.57437002]\n",
            "  [0.32051326 0.89146585 0.53533964]\n",
            "  [0.78122054 0.38860558 0.24585453]]\n",
            "\n",
            " [[0.66203051 0.08016044 0.06241148]\n",
            "  [0.74348339 0.56852512 0.62267613]\n",
            "  [0.15485458 0.59471941 0.79379567]]\n",
            "\n",
            " [[0.77036588 0.1624094  0.30767674]\n",
            "  [0.08073513 0.63697548 0.35389397]\n",
            "  [0.7108668  0.81626817 0.46992148]]]\n"
          ]
        }
      ]
    },
    {
      "cell_type": "markdown",
      "metadata": {
        "id": "bhjf6d0Ldtbb"
      },
      "source": [
        "#### 4.5 「10×10のランダム値を持つ行列を作成し、最小値と最大値を出力してください。」"
      ]
    },
    {
      "cell_type": "code",
      "metadata": {
        "id": "wnba6Oxsdtbb",
        "outputId": "d8cf4076-ef42-43d1-d9ac-d7a83b486948"
      },
      "source": [
        "data = np.random.random((10,10))\n",
        "datamin, datamax = data.min(), data.max()\n",
        "print(datamin, datamax)"
      ],
      "execution_count": null,
      "outputs": [
        {
          "name": "stdout",
          "output_type": "stream",
          "text": [
            "0.022807821643224258 0.9827718467949093\n"
          ]
        }
      ]
    },
    {
      "cell_type": "markdown",
      "metadata": {
        "id": "_2D9hXK8dtbb"
      },
      "source": [
        "#### 4.6 「10×10のランダム値を持つ行列を作成し、平均値を出力してください。」"
      ]
    },
    {
      "cell_type": "code",
      "metadata": {
        "id": "8agTcJttdtbb",
        "outputId": "023756ff-3862-4569-91d4-f0e2e6026775"
      },
      "source": [
        "data = np.random.random((10,10))\n",
        "m = data.mean()\n",
        "print(m)"
      ],
      "execution_count": null,
      "outputs": [
        {
          "name": "stdout",
          "output_type": "stream",
          "text": [
            "0.5061333248191302\n"
          ]
        }
      ]
    },
    {
      "cell_type": "markdown",
      "metadata": {
        "id": "8t-WsCF0dtbb"
      },
      "source": [
        "### 5. 行列について学習します（応用）（7問）"
      ]
    },
    {
      "cell_type": "markdown",
      "metadata": {
        "id": "lWC20As2dtbc"
      },
      "source": [
        "#### 5.1 「10×10の大きさの、外側だけ値が「1」、内側が全て値が「0」の行列を作成してください。」"
      ]
    },
    {
      "cell_type": "code",
      "metadata": {
        "id": "s-Z6xKe9dtbc",
        "outputId": "d7c917df-b103-4be8-90d2-49ac345ddfd8"
      },
      "source": [
        "data = np.ones((10,10))\n",
        "data[1:-1,1:-1] = 0\n",
        "print(data)"
      ],
      "execution_count": null,
      "outputs": [
        {
          "name": "stdout",
          "output_type": "stream",
          "text": [
            "[[1. 1. 1. 1. 1. 1. 1. 1. 1. 1.]\n",
            " [1. 0. 0. 0. 0. 0. 0. 0. 0. 1.]\n",
            " [1. 0. 0. 0. 0. 0. 0. 0. 0. 1.]\n",
            " [1. 0. 0. 0. 0. 0. 0. 0. 0. 1.]\n",
            " [1. 0. 0. 0. 0. 0. 0. 0. 0. 1.]\n",
            " [1. 0. 0. 0. 0. 0. 0. 0. 0. 1.]\n",
            " [1. 0. 0. 0. 0. 0. 0. 0. 0. 1.]\n",
            " [1. 0. 0. 0. 0. 0. 0. 0. 0. 1.]\n",
            " [1. 0. 0. 0. 0. 0. 0. 0. 0. 1.]\n",
            " [1. 1. 1. 1. 1. 1. 1. 1. 1. 1.]]\n"
          ]
        }
      ]
    },
    {
      "cell_type": "markdown",
      "metadata": {
        "id": "cGpC7f5Ldtbc"
      },
      "source": [
        "#### 5.2 「10×10の大きさの、外側だけ値が「0」、内側が全て値が「1」の行列を作成してください。」"
      ]
    },
    {
      "cell_type": "code",
      "metadata": {
        "id": "wWrAuYIFdtbc",
        "outputId": "992bc536-9fcf-4c20-d791-56577cff9f64"
      },
      "source": [
        "data = np.ones((8,8))\n",
        "data = np.pad(data, pad_width=1, mode='constant', constant_values=0)\n",
        "print(data)"
      ],
      "execution_count": null,
      "outputs": [
        {
          "name": "stdout",
          "output_type": "stream",
          "text": [
            "[[0. 0. 0. 0. 0. 0. 0. 0. 0. 0.]\n",
            " [0. 1. 1. 1. 1. 1. 1. 1. 1. 0.]\n",
            " [0. 1. 1. 1. 1. 1. 1. 1. 1. 0.]\n",
            " [0. 1. 1. 1. 1. 1. 1. 1. 1. 0.]\n",
            " [0. 1. 1. 1. 1. 1. 1. 1. 1. 0.]\n",
            " [0. 1. 1. 1. 1. 1. 1. 1. 1. 0.]\n",
            " [0. 1. 1. 1. 1. 1. 1. 1. 1. 0.]\n",
            " [0. 1. 1. 1. 1. 1. 1. 1. 1. 0.]\n",
            " [0. 1. 1. 1. 1. 1. 1. 1. 1. 0.]\n",
            " [0. 0. 0. 0. 0. 0. 0. 0. 0. 0.]]\n"
          ]
        }
      ]
    },
    {
      "cell_type": "markdown",
      "metadata": {
        "id": "mpCCS-GVdtbc"
      },
      "source": [
        "#### 5.3「下記のような4×4の対角行列を作成してください。」"
      ]
    },
    {
      "cell_type": "code",
      "metadata": {
        "id": "3sgA5ZB7dtbc",
        "outputId": "f4460139-d6f0-4ff3-a2af-01704605843b"
      },
      "source": [
        "data = np.diag(1+np.arange(4),k=0)\n",
        "print(data)"
      ],
      "execution_count": null,
      "outputs": [
        {
          "name": "stdout",
          "output_type": "stream",
          "text": [
            "[[1 0 0 0]\n",
            " [0 2 0 0]\n",
            " [0 0 3 0]\n",
            " [0 0 0 4]]\n"
          ]
        }
      ]
    },
    {
      "cell_type": "markdown",
      "metadata": {
        "id": "PaIk5T4Ldtbd"
      },
      "source": [
        "#### 5.4 「下記のような8×8の行列を作成してください。」"
      ]
    },
    {
      "cell_type": "code",
      "metadata": {
        "id": "ltiaL66sdtbd",
        "outputId": "2fdf8356-28fd-486b-fd08-2bc7d00816bd"
      },
      "source": [
        "data = np.zeros((8,8),dtype=int)\n",
        "data[1::2,::2] = 1\n",
        "data[::2,1::2] = 1\n",
        "print(data)"
      ],
      "execution_count": null,
      "outputs": [
        {
          "name": "stdout",
          "output_type": "stream",
          "text": [
            "[[0 1 0 1 0 1 0 1]\n",
            " [1 0 1 0 1 0 1 0]\n",
            " [0 1 0 1 0 1 0 1]\n",
            " [1 0 1 0 1 0 1 0]\n",
            " [0 1 0 1 0 1 0 1]\n",
            " [1 0 1 0 1 0 1 0]\n",
            " [0 1 0 1 0 1 0 1]\n",
            " [1 0 1 0 1 0 1 0]]\n"
          ]
        }
      ]
    },
    {
      "cell_type": "markdown",
      "metadata": {
        "id": "dT7KFOyfdtbd"
      },
      "source": [
        "#### 5.5「3×5×2の行列を考えた時に、10番目の要素のインデックスを出力してください。」"
      ]
    },
    {
      "cell_type": "code",
      "metadata": {
        "scrolled": true,
        "id": "35wUxUTsdtbd",
        "outputId": "7ffbb3bc-4cba-4acd-d2b9-d7fd31105bea"
      },
      "source": [
        "print(np.unravel_index(10,(3,5,2)))"
      ],
      "execution_count": null,
      "outputs": [
        {
          "name": "stdout",
          "output_type": "stream",
          "text": [
            "(1, 0, 0)\n"
          ]
        }
      ]
    },
    {
      "cell_type": "markdown",
      "metadata": {
        "id": "_4Fa6Kn0dtbd"
      },
      "source": [
        "#### 5.6「5×5のランダム値を持つ行列を作成し、行列内の最大値が1、最小値が0になるように正規化してください。」"
      ]
    },
    {
      "cell_type": "code",
      "metadata": {
        "id": "feyPJaMjdtbd",
        "outputId": "fcab9a4c-018c-4ad6-8d69-7cdcf3bc9fbf"
      },
      "source": [
        "data = np.random.random((5,5))\n",
        "datamax, datamin = data.max(), data.min()\n",
        "data = (data - datamin)/(datamax - datamin)\n",
        "print(data)"
      ],
      "execution_count": null,
      "outputs": [
        {
          "name": "stdout",
          "output_type": "stream",
          "text": [
            "[[3.12366383e-01 7.51132271e-01 1.89453232e-01 7.65980505e-01\n",
            "  4.12215307e-02]\n",
            " [8.46317584e-01 5.36614722e-02 6.49828514e-01 6.94149244e-01\n",
            "  4.64085788e-01]\n",
            " [3.18454909e-01 4.23255935e-01 5.26538875e-01 0.00000000e+00\n",
            "  1.48984436e-01]\n",
            " [1.81895160e-01 3.22805444e-01 7.20055767e-01 6.73603889e-02\n",
            "  8.61922153e-01]\n",
            " [9.07080673e-04 8.25894135e-01 1.46601390e-01 4.73729219e-01\n",
            "  1.00000000e+00]]\n"
          ]
        }
      ]
    },
    {
      "cell_type": "markdown",
      "metadata": {
        "id": "zopAu8eadtbe"
      },
      "source": [
        "#### 5.7「5×3の値が全て1の行列と3×2の値が全て1の行列の掛け算を行ってください。」"
      ]
    },
    {
      "cell_type": "code",
      "metadata": {
        "id": "qMafWqoLdtbe",
        "outputId": "b9a9a9e8-70bb-45b1-da2b-a60bbcedcdb6"
      },
      "source": [
        "data = np.dot(np.ones((5,3)), np.ones((3,2)))\n",
        "print(data)"
      ],
      "execution_count": null,
      "outputs": [
        {
          "name": "stdout",
          "output_type": "stream",
          "text": [
            "[[3. 3.]\n",
            " [3. 3.]\n",
            " [3. 3.]\n",
            " [3. 3.]\n",
            " [3. 3.]]\n"
          ]
        }
      ]
    },
    {
      "cell_type": "markdown",
      "metadata": {
        "id": "LYjxeyUzdtbe"
      },
      "source": [
        "### 6. numpyでよく使用する機能について学習します。（14問）"
      ]
    },
    {
      "cell_type": "markdown",
      "metadata": {
        "id": "mxfjedHAdtbe"
      },
      "source": [
        "#### 6.1「0～10までの数字を昇順に並べた配列を作成し、4～8までの数字をマイナスに変えて出力してください。」"
      ]
    },
    {
      "cell_type": "code",
      "metadata": {
        "id": "0MLrrXOadtbf",
        "outputId": "c72afd1a-f0fa-4ce1-85e1-2df9c49e91f8"
      },
      "source": [
        "data = np.arange(11)\n",
        "data[(3 < data) & (data <= 8)] *= -1\n",
        "print(data)"
      ],
      "execution_count": null,
      "outputs": [
        {
          "name": "stdout",
          "output_type": "stream",
          "text": [
            "[ 0  1  2  3 -4 -5 -6 -7 -8  9 10]\n"
          ]
        }
      ]
    },
    {
      "cell_type": "markdown",
      "metadata": {
        "id": "C0t1hzLTdtbf"
      },
      "source": [
        "#### 6.2「ランダムな整数値を10個もつ配列を2つ作成し、その2つの配列の共通の値を出力してください。」"
      ]
    },
    {
      "cell_type": "code",
      "metadata": {
        "id": "ih4BDIGNdtbf",
        "outputId": "a222c3b6-e9cf-4ffb-84e1-5129fcc02ac1"
      },
      "source": [
        "data1 = np.random.randint(0,10,10)\n",
        "data2 = np.random.randint(0,10,10)\n",
        "print(np.intersect1d(data1,data2))"
      ],
      "execution_count": null,
      "outputs": [
        {
          "name": "stdout",
          "output_type": "stream",
          "text": [
            "[0 3 5 6 7]\n"
          ]
        }
      ]
    },
    {
      "cell_type": "markdown",
      "metadata": {
        "id": "RjAbkmoDdtbf"
      },
      "source": [
        "#### 6.3「虚数を出力してください。」"
      ]
    },
    {
      "cell_type": "code",
      "metadata": {
        "id": "sdBfBDObdtbf",
        "outputId": "873afb93-fca8-4212-a768-62d2c7b0ad71"
      },
      "source": [
        "np.emath.sqrt(-1)"
      ],
      "execution_count": null,
      "outputs": [
        {
          "data": {
            "text/plain": [
              "1j"
            ]
          },
          "execution_count": 31,
          "metadata": {},
          "output_type": "execute_result"
        }
      ]
    },
    {
      "cell_type": "markdown",
      "metadata": {
        "id": "KTdpJJmQdtbf"
      },
      "source": [
        "#### 6.4「今日の日付と明後日の日付を出力してください。」"
      ]
    },
    {
      "cell_type": "code",
      "metadata": {
        "id": "xeqvpm4Udtbf",
        "outputId": "d5b64254-b5bc-4bc2-beaa-f3bb29450c8b"
      },
      "source": [
        "today     = np.datetime64('today', 'D')\n",
        "day_after_tomorrow  = np.datetime64('today', 'D') + np.timedelta64(2, 'D')\n",
        "print(today)\n",
        "print(day_after_tomorrow)"
      ],
      "execution_count": null,
      "outputs": [
        {
          "name": "stdout",
          "output_type": "stream",
          "text": [
            "2020-09-05\n",
            "2020-09-07\n"
          ]
        }
      ]
    },
    {
      "cell_type": "markdown",
      "metadata": {
        "id": "vtgh-II_dtbg"
      },
      "source": [
        "#### 6.5「2019年11月の日付を配列として出力してください。」"
      ]
    },
    {
      "cell_type": "code",
      "metadata": {
        "id": "GuvCrBdOdtbg",
        "outputId": "d7a1632d-9558-4c3b-fb85-ab4a10d0fd03"
      },
      "source": [
        "data = np.arange('2019-11', '2019-12', dtype='datetime64[D]')\n",
        "print(data)"
      ],
      "execution_count": null,
      "outputs": [
        {
          "name": "stdout",
          "output_type": "stream",
          "text": [
            "['2019-11-01' '2019-11-02' '2019-11-03' '2019-11-04' '2019-11-05'\n",
            " '2019-11-06' '2019-11-07' '2019-11-08' '2019-11-09' '2019-11-10'\n",
            " '2019-11-11' '2019-11-12' '2019-11-13' '2019-11-14' '2019-11-15'\n",
            " '2019-11-16' '2019-11-17' '2019-11-18' '2019-11-19' '2019-11-20'\n",
            " '2019-11-21' '2019-11-22' '2019-11-23' '2019-11-24' '2019-11-25'\n",
            " '2019-11-26' '2019-11-27' '2019-11-28' '2019-11-29' '2019-11-30']\n"
          ]
        }
      ]
    },
    {
      "cell_type": "markdown",
      "metadata": {
        "id": "tZ9IRueedtbg"
      },
      "source": [
        "#### 6.6「ランダムの値を10個持つ配列を作成し、異なる3パターンで整数として出力してください。」"
      ]
    },
    {
      "cell_type": "code",
      "metadata": {
        "id": "aP_qkhqKdtbg",
        "outputId": "65fc17a8-6abb-4790-ee77-4decf84a0c1f"
      },
      "source": [
        "data = np.random.uniform(0,10,10)\n",
        "print(data)\n",
        "print (data - data%1)\n",
        "print (np.floor(data))\n",
        "print (np.ceil(data)-1)"
      ],
      "execution_count": null,
      "outputs": [
        {
          "name": "stdout",
          "output_type": "stream",
          "text": [
            "[5.21622464 8.12675106 4.21005616 8.32836072 9.7693167  9.33239441\n",
            " 7.59072745 3.56879393 8.62983223 7.75536633]\n",
            "[5. 8. 4. 8. 9. 9. 7. 3. 8. 7.]\n",
            "[5. 8. 4. 8. 9. 9. 7. 3. 8. 7.]\n",
            "[5. 8. 4. 8. 9. 9. 7. 3. 8. 7.]\n"
          ]
        }
      ]
    },
    {
      "cell_type": "markdown",
      "metadata": {
        "id": "QR5nsVTHdtbg"
      },
      "source": [
        "#### 6.7「下記のような行列を作成してください。」"
      ]
    },
    {
      "cell_type": "code",
      "metadata": {
        "id": "TzfzCQW8dtbh",
        "outputId": "4e3530b3-ef5d-402f-ce45-dc6876f9043d"
      },
      "source": [
        "data = np.zeros((5,5))\n",
        "data += np.arange(5)\n",
        "print(data)"
      ],
      "execution_count": null,
      "outputs": [
        {
          "name": "stdout",
          "output_type": "stream",
          "text": [
            "[[0. 1. 2. 3. 4.]\n",
            " [0. 1. 2. 3. 4.]\n",
            " [0. 1. 2. 3. 4.]\n",
            " [0. 1. 2. 3. 4.]\n",
            " [0. 1. 2. 3. 4.]]\n"
          ]
        }
      ]
    },
    {
      "cell_type": "markdown",
      "metadata": {
        "id": "BpDeSI96dtbh"
      },
      "source": [
        "#### 6.8「「0」と「1」は含めず、「0」～「1」の間を10分割した配列を作成してください。」"
      ]
    },
    {
      "cell_type": "code",
      "metadata": {
        "id": "RLKCn2nHdtbi",
        "outputId": "3c344f53-a04c-4dcf-e898-800df7077fec"
      },
      "source": [
        "data = np.linspace(0,1,11,endpoint=False)[1:]\n",
        "print(data)"
      ],
      "execution_count": null,
      "outputs": [
        {
          "name": "stdout",
          "output_type": "stream",
          "text": [
            "[0.09090909 0.18181818 0.27272727 0.36363636 0.45454545 0.54545455\n",
            " 0.63636364 0.72727273 0.81818182 0.90909091]\n"
          ]
        }
      ]
    },
    {
      "cell_type": "markdown",
      "metadata": {
        "id": "P1LnkQOodtbi"
      },
      "source": [
        "#### 6.9「10のランダム値を持つ配列を作成し、値を昇順にして出力してください。」"
      ]
    },
    {
      "cell_type": "code",
      "metadata": {
        "id": "-Tiv5KxAdtbi",
        "outputId": "9bdcaddd-2a68-44ed-85f2-b52df79ba64d"
      },
      "source": [
        "data = np.random.random(10)\n",
        "data.sort()\n",
        "print(data)"
      ],
      "execution_count": null,
      "outputs": [
        {
          "name": "stdout",
          "output_type": "stream",
          "text": [
            "[0.04388254 0.1433511  0.24005686 0.39409771 0.41199307 0.49191979\n",
            " 0.58767947 0.63779433 0.92600696 0.97851567]\n"
          ]
        }
      ]
    },
    {
      "cell_type": "markdown",
      "metadata": {
        "id": "7o_ouWTrdtbi"
      },
      "source": [
        "#### 6.10「10のランダム値を持つ配列を作成し、MAX値に「0」を置き換えて出力してください。」"
      ]
    },
    {
      "cell_type": "code",
      "metadata": {
        "id": "SBWTipdBdtbi",
        "outputId": "b0855924-9092-4beb-b09f-968ddc9dbbd1"
      },
      "source": [
        "data = np.random.random(10)\n",
        "data[data.argmax()] = 0\n",
        "print(data)"
      ],
      "execution_count": null,
      "outputs": [
        {
          "name": "stdout",
          "output_type": "stream",
          "text": [
            "[0.79632389 0.78263461 0.         0.54741252 0.68679153 0.76847573\n",
            " 0.07433973 0.45865411 0.60889954 0.54122783]\n"
          ]
        }
      ]
    },
    {
      "cell_type": "markdown",
      "metadata": {
        "id": "6fC14fLJdtbi"
      },
      "source": [
        "#### 6.11「下記のような値が軸単位で昇順になっている行列を作成してください。」"
      ]
    },
    {
      "cell_type": "code",
      "metadata": {
        "id": "daabbQcOdtbj",
        "outputId": "5a84e809-7a24-48e3-feb4-9cf2a35d5c83"
      },
      "source": [
        "data = np.zeros((5,5), [('x',float),('y',float)])\n",
        "data['x'], data['y'] = np.meshgrid(np.linspace(0,1,5),\n",
        "                             np.linspace(0,1,5))\n",
        "print(data)"
      ],
      "execution_count": null,
      "outputs": [
        {
          "name": "stdout",
          "output_type": "stream",
          "text": [
            "[[(0.  , 0.  ) (0.25, 0.  ) (0.5 , 0.  ) (0.75, 0.  ) (1.  , 0.  )]\n",
            " [(0.  , 0.25) (0.25, 0.25) (0.5 , 0.25) (0.75, 0.25) (1.  , 0.25)]\n",
            " [(0.  , 0.5 ) (0.25, 0.5 ) (0.5 , 0.5 ) (0.75, 0.5 ) (1.  , 0.5 )]\n",
            " [(0.  , 0.75) (0.25, 0.75) (0.5 , 0.75) (0.75, 0.75) (1.  , 0.75)]\n",
            " [(0.  , 1.  ) (0.25, 1.  ) (0.5 , 1.  ) (0.75, 1.  ) (1.  , 1.  )]]\n"
          ]
        }
      ]
    },
    {
      "cell_type": "markdown",
      "metadata": {
        "id": "FoF8tH2Ldtbj"
      },
      "source": [
        "#### 6.12「3×3の値が昇順になっている行列を作成し、インデックスと値を出力してください。」"
      ]
    },
    {
      "cell_type": "code",
      "metadata": {
        "id": "Kbr_B9cMdtbj",
        "outputId": "7f8b4a20-47f5-4cab-a220-319a56f2fa01"
      },
      "source": [
        "data = np.arange(9).reshape(3,3)\n",
        "for index, value in np.ndenumerate(data):\n",
        "    print(index, value)"
      ],
      "execution_count": null,
      "outputs": [
        {
          "name": "stdout",
          "output_type": "stream",
          "text": [
            "(0, 0) 0\n",
            "(0, 1) 1\n",
            "(0, 2) 2\n",
            "(1, 0) 3\n",
            "(1, 1) 4\n",
            "(1, 2) 5\n",
            "(2, 0) 6\n",
            "(2, 1) 7\n",
            "(2, 2) 8\n"
          ]
        }
      ]
    },
    {
      "cell_type": "markdown",
      "metadata": {
        "id": "fkhidC04dtbj"
      },
      "source": [
        "#### 6.13「10×10の「0」行列を作成し、ランダムで20個「1」に変更してください。」"
      ]
    },
    {
      "cell_type": "code",
      "metadata": {
        "id": "Zkq5HKHQdtbj",
        "outputId": "c68ed5ec-d55d-4641-80da-a77018215bcd"
      },
      "source": [
        "n = 10\n",
        "p = 20\n",
        "data = np.zeros((n,n))\n",
        "np.put(data, np.random.choice(range(n*n), p, replace=False),1)\n",
        "print(data)"
      ],
      "execution_count": null,
      "outputs": [
        {
          "name": "stdout",
          "output_type": "stream",
          "text": [
            "[[0. 0. 0. 0. 0. 0. 0. 0. 1. 0.]\n",
            " [0. 0. 0. 0. 0. 0. 0. 0. 0. 0.]\n",
            " [1. 0. 0. 0. 0. 0. 0. 0. 0. 1.]\n",
            " [0. 0. 0. 0. 1. 0. 1. 0. 0. 0.]\n",
            " [0. 0. 0. 0. 0. 1. 1. 0. 0. 1.]\n",
            " [1. 0. 1. 0. 0. 0. 0. 0. 0. 0.]\n",
            " [0. 0. 0. 0. 0. 1. 0. 0. 0. 0.]\n",
            " [0. 1. 1. 0. 0. 0. 1. 0. 0. 0.]\n",
            " [0. 0. 0. 0. 1. 0. 0. 0. 0. 0.]\n",
            " [1. 0. 1. 1. 1. 1. 0. 0. 0. 0.]]\n"
          ]
        }
      ]
    },
    {
      "cell_type": "markdown",
      "metadata": {
        "id": "wGiMu3yddtbk"
      },
      "source": [
        "#### 6.14「100の整数のランダム要素を持つ配列を作成し、その頻度を出力してください。」"
      ]
    },
    {
      "cell_type": "code",
      "metadata": {
        "id": "qOShffr4dtbk",
        "outputId": "c38aa9c9-c7a1-4757-d3c8-4a7dbe5809f6"
      },
      "source": [
        "data = np.random.randint(0,100,100)\n",
        "F = np.bincount(data)\n",
        "print(F)"
      ],
      "execution_count": null,
      "outputs": [
        {
          "name": "stdout",
          "output_type": "stream",
          "text": [
            "[1 1 0 0 1 1 0 1 1 3 1 0 0 2 1 1 3 0 0 0 1 1 1 0 1 0 1 1 2 1 2 0 2 1 1 0 2\n",
            " 0 0 0 1 1 0 0 1 0 0 0 3 0 0 0 0 2 2 1 1 0 0 2 4 0 0 4 5 2 1 1 2 0 2 3 0 0\n",
            " 1 0 1 0 2 2 3 1 1 1 0 2 1 1 2 1 1 2 1 1 0 1 0 0 2 1]\n"
          ]
        }
      ]
    }
  ]
}